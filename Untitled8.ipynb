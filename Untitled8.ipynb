{
  "nbformat": 4,
  "nbformat_minor": 0,
  "metadata": {
    "colab": {
      "provenance": [],
      "toc_visible": true,
      "authorship_tag": "ABX9TyMVNi6taiFRq950ThCctG+/",
      "include_colab_link": true
    },
    "kernelspec": {
      "name": "python3",
      "display_name": "Python 3"
    },
    "language_info": {
      "name": "python"
    }
  },
  "cells": [
    {
      "cell_type": "markdown",
      "metadata": {
        "id": "view-in-github",
        "colab_type": "text"
      },
      "source": [
        "<a href=\"https://colab.research.google.com/github/arjwanAhmed/arjwanAhmed/blob/main/Untitled8.ipynb\" target=\"_parent\"><img src=\"https://colab.research.google.com/assets/colab-badge.svg\" alt=\"Open In Colab\"/></a>"
      ]
    },
    {
      "cell_type": "code",
      "execution_count": 2,
      "metadata": {
        "colab": {
          "base_uri": "https://localhost:8080/"
        },
        "id": "2fXuDuMIlYh2",
        "outputId": "116c50c9-4ca2-4c89-ab36-cc31d508198c"
      },
      "outputs": [
        {
          "output_type": "stream",
          "name": "stdout",
          "text": [
            "hello everyone my name arjwan, my age 22 , i study MIS i hope learning PYTHON\n"
          ]
        }
      ],
      "source": [
        "#تعريف لمتغير الاسم\n",
        "name = 'arjwan'\n",
        "\n",
        "#تعريف لمتغير العمر\n",
        "age = '22'\n",
        "\n",
        "#امر طباعه\n",
        "print(f'hello everyone my name {name}, my age {22} , i study MIS i hope learning PYTHON')"
      ]
    }
  ]
}