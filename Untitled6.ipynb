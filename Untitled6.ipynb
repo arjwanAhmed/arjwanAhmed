{
  "nbformat": 4,
  "nbformat_minor": 0,
  "metadata": {
    "colab": {
      "provenance": [],
      "toc_visible": true,
      "include_colab_link": true
    },
    "kernelspec": {
      "name": "python3",
      "display_name": "Python 3"
    },
    "language_info": {
      "name": "python"
    }
  },
  "cells": [
    {
      "cell_type": "markdown",
      "metadata": {
        "id": "view-in-github",
        "colab_type": "text"
      },
      "source": [
        "<a href=\"https://colab.research.google.com/github/arjwanAhmed/arjwanAhmed/blob/main/Untitled6.ipynb\" target=\"_parent\"><img src=\"https://colab.research.google.com/assets/colab-badge.svg\" alt=\"Open In Colab\"/></a>"
      ]
    },
    {
      "cell_type": "code",
      "source": [
        "def CALCULATE_BONUS (years, evaluation) :\n",
        "    if years <=10:\n",
        "        if evaluation == \"excellent\":\n",
        "           BONUS_PERCENTAGE = 0.10\n",
        "        elif evaluation ==\"poor\":\n",
        "            BONUS_PERCENTAGE = 0.05\n",
        "        else:\n",
        "            BONUS_PERCENTAGE = 0\n",
        "    else:\n",
        "        if evaluation == \"excellent\":\n",
        "            BONUS_PERCENTAGE = 0.20\n",
        "        elif evaluation == \"poor\" :\n",
        "            BONUS_PERCENTAGE = 0.15\n",
        "        else:\n",
        "            BONUS_PERCENTAGE = 0\n",
        "    return BONUS_PERCENTAGE\n",
        "#تعيين القيم\n",
        "EMPLOYEE_YEARS = 8\n",
        "EMPLOYEE_EVALUATION = \"excellent\"\n",
        "\n",
        "#حساب المكافاه\n",
        "bonus = CALCULATE_BONUS(EMPLOYEE_YEARS , EMPLOYEE_EVALUATION)\n",
        "\n",
        "#طباعه نتيجة الحساب\n",
        "print (f\"معدل المكافاة: {bonus*100}%\")\n",
        "\n",
        "\n"
      ],
      "metadata": {
        "colab": {
          "base_uri": "https://localhost:8080/"
        },
        "id": "bVlHqOxQ08Lv",
        "outputId": "28bdca06-9092-457b-926c-359080373652"
      },
      "execution_count": null,
      "outputs": [
        {
          "output_type": "stream",
          "name": "stdout",
          "text": [
            "معدل المكافاة: 10.0%\n"
          ]
        }
      ]
    },
    {
      "cell_type": "markdown",
      "source": [
        "One of the best answers\n",
        "\n",
        "\n",
        "good job"
      ],
      "metadata": {
        "id": "FCk53ukWjgGs"
      }
    },
    {
      "cell_type": "code",
      "source": [
        "import numpy as np\n",
        "def CALCULATE_BONUS (years, evaluation) :\n",
        "    if years <=10 :\n",
        "        bonus = np.select([evaluation == \"excellent\", evaluation ==\"poor\"], [0.10 , 0.05], default = 0)\n",
        "    else:\n",
        "        bonus = np.select([evaluation == \"excellent\", evaluation == \"poor\"], [0.20 , 0.15], default=0)\n",
        "    return bonus\n",
        "\n",
        "#تعيين القيم\n",
        "EMPLOYEE_YEARS = 8\n",
        "EMPLOYEE_EVALUATION = \"excellent\"\n",
        "\n",
        "#حساب المكافاه\n",
        "bonus = CALCULATE_BONUS(EMPLOYEE_YEARS, EMPLOYEE_EVALUATION)\n",
        "\n",
        "#طباعه نتيجة الحساب\n",
        "print(f\"معدل المكافاه: {bonus * 100}%\")"
      ],
      "metadata": {
        "colab": {
          "base_uri": "https://localhost:8080/"
        },
        "id": "w1gAQtuk4v8t",
        "outputId": "f2b6796a-c755-4dd4-c175-c8eb8d8a4787"
      },
      "execution_count": null,
      "outputs": [
        {
          "output_type": "stream",
          "name": "stdout",
          "text": [
            "معدل المكافاه: 10.0%\n"
          ]
        }
      ]
    }
  ]
}